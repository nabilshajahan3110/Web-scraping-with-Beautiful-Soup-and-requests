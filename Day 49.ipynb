{
 "cells": [
  {
   "cell_type": "markdown",
   "id": "afe8414c-9f45-4195-8bba-1570b9a8d187",
   "metadata": {},
   "source": [
    "## Web Scraping with Beautiful soups and requests"
   ]
  },
  {
   "cell_type": "code",
   "execution_count": 60,
   "id": "521bed66-519a-4f05-93eb-6a30de8acf22",
   "metadata": {},
   "outputs": [],
   "source": [
    "# Step 1: Import libraries\n",
    "import requests\n",
    "from bs4 import BeautifulSoup\n",
    "import csv"
   ]
  },
  {
   "cell_type": "code",
   "execution_count": 62,
   "id": "6c083897-b0ce-4c8a-aa1a-f12e1deee411",
   "metadata": {},
   "outputs": [
    {
     "name": "stdout",
     "output_type": "stream",
     "text": [
      "Page fetched successfully!\n"
     ]
    }
   ],
   "source": [
    "# URL of the movies data page\n",
    "url = \"https://scrapethissite.com/pages/simple/\"\n",
    "\n",
    "# Send a GET request to fetch the HTML content\n",
    "response = requests.get(url)\n",
    "\n",
    "# Check if the request was successful\n",
    "if response.status_code == 200:\n",
    "    print(\"Page fetched successfully!\")\n",
    "else:\n",
    "    print(f\"Failed to fetch the page. Status code: {response.status_code}\")\n",
    "\n",
    "# Parse the page content using BeautifulSoup\n",
    "soup = BeautifulSoup(response.text, 'html.parser')"
   ]
  },
  {
   "cell_type": "code",
   "execution_count": 64,
   "id": "674c3f61-f0d3-4d51-90b9-f46271b6c7d7",
   "metadata": {},
   "outputs": [],
   "source": [
    "# Find all movie entries on the page\n",
    "movies = soup.find_all('div', class_='movie')\n",
    "\n",
    "# Initialize a list to store movie data\n",
    "movies_data = []\n",
    "\n",
    "# Loop through each movie entry and extract details\n",
    "for movie in movies:\n",
    "    # Extract the movie title\n",
    "    title = movie.find('h2', class_='movie-title').text.strip()\n",
    "\n",
    "    # Extract the release year\n",
    "    year = movie.find('span', class_='movie-year').text.strip()\n",
    "\n",
    "    # Extract the director (after the label)\n",
    "    director = movie.find('p', string=lambda text: \"Director:\" in text).text.replace('Director:', '').strip()\n",
    "\n",
    "    # Extract the budget (if available)\n",
    "    budget = movie.find('p', string=lambda text: \"Budget:\" in text)\n",
    "    budget = budget.text.replace('Budget:', '').strip() if budget else \"N/A\"\n",
    "\n",
    "    # Extract the gross revenue (if available)\n",
    "    gross = movie.find('p', string=lambda text: \"Gross:\" in text)\n",
    "    gross = gross.text.replace('Gross:', '').strip() if gross else \"N/A\"\n",
    "\n",
    "    # Append the data to the list\n",
    "    movies_data.append({\n",
    "        'Title': title,\n",
    "        'Year': year,\n",
    "        'Director': director,\n",
    "        'Budget': budget,\n",
    "        'Gross Revenue': gross\n",
    "    })\n",
    "\n",
    "# Display the scraped data\n",
    "for movie in movies_data:\n",
    "    print(movie)"
   ]
  },
  {
   "cell_type": "code",
   "execution_count": 66,
   "id": "d011d634-1879-44ca-911a-380c39fc10f3",
   "metadata": {},
   "outputs": [
    {
     "name": "stdout",
     "output_type": "stream",
     "text": [
      "Data saved to movies_data.csv\n"
     ]
    }
   ],
   "source": [
    "# Write data to a CSV file\n",
    "with open('movies_data.csv', 'w', newline='', encoding='utf-8') as file:\n",
    "    writer = csv.DictWriter(file, fieldnames=['Title', 'Year', 'Director', 'Budget', 'Gross Revenue'])\n",
    "    writer.writeheader()\n",
    "    writer.writerows(movies_data)\n",
    "\n",
    "print(\"Data saved to movies_data.csv\")"
   ]
  }
 ],
 "metadata": {
  "kernelspec": {
   "display_name": "Python 3 (ipykernel)",
   "language": "python",
   "name": "python3"
  },
  "language_info": {
   "codemirror_mode": {
    "name": "ipython",
    "version": 3
   },
   "file_extension": ".py",
   "mimetype": "text/x-python",
   "name": "python",
   "nbconvert_exporter": "python",
   "pygments_lexer": "ipython3",
   "version": "3.12.4"
  }
 },
 "nbformat": 4,
 "nbformat_minor": 5
}
